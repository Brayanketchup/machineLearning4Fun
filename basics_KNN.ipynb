{
  "cells": [
    {
      "cell_type": "markdown",
      "id": "f75eb865",
      "metadata": {
        "id": "f75eb865"
      },
      "source": [
        "## Basics and K Nearest Neighbors (KNN) Algorithm"
      ]
    },
    {
      "cell_type": "markdown",
      "id": "1ad84882",
      "metadata": {
        "id": "1ad84882"
      },
      "source": [
        "## Dataset\n",
        "    \n",
        "- This dataset is from UCI Machine Learning Repository: https://archive.ics.uci.edu/dataset/186/wine+quality\n",
        "\n",
        "- white wine quality classification\n",
        "\n",
        "- Number of data samples: 4898\n",
        "    \n",
        "- Each data sample has 12 numeric features/attributes.\n",
        "\n",
        "- The first 11 are features, the 12th is labels    \n"
      ]
    },
    {
      "cell_type": "code",
      "source": [
        "# Task 1.1 Load Data\n",
        "import pandas as pd\n",
        "import numpy as np\n",
        "# ------------------ Add your code here -------------------\n",
        "# df = pd.read_csv('winequality-white.csv')\n",
        "df = pd.read_csv('winequality-white.csv', delimiter=';')\n",
        "\n",
        "features = df.iloc[:, :11].values\n",
        "target = df.iloc[:, -1].values\n",
        "\n",
        "print(\"Feature:\")\n",
        "print(features)\n",
        "print(\"\\nLabel:\")\n",
        "print(target)\n",
        "print(\"\\nFeature Shape:\")\n",
        "print(features.shape)\n",
        "\n"
      ],
      "metadata": {
        "colab": {
          "base_uri": "https://localhost:8080/"
        },
        "id": "ytQoUrUe6svz",
        "outputId": "487a51ed-1ef4-4c96-f9c5-c1952ca83b70"
      },
      "id": "ytQoUrUe6svz",
      "execution_count": null,
      "outputs": [
        {
          "output_type": "stream",
          "name": "stdout",
          "text": [
            "Feature:\n",
            "[[ 7.    0.27  0.36 ...  3.    0.45  8.8 ]\n",
            " [ 6.3   0.3   0.34 ...  3.3   0.49  9.5 ]\n",
            " [ 8.1   0.28  0.4  ...  3.26  0.44 10.1 ]\n",
            " ...\n",
            " [ 6.5   0.24  0.19 ...  2.99  0.46  9.4 ]\n",
            " [ 5.5   0.29  0.3  ...  3.34  0.38 12.8 ]\n",
            " [ 6.    0.21  0.38 ...  3.26  0.32 11.8 ]]\n",
            "\n",
            "Label:\n",
            "[6 6 6 ... 6 7 6]\n",
            "\n",
            "Feature Shape:\n",
            "(4898, 11)\n"
          ]
        }
      ]
    },
    {
      "cell_type": "code",
      "execution_count": null,
      "id": "d61821d4",
      "metadata": {
        "id": "d61821d4"
      },
      "outputs": [],
      "source": [
        "import numpy as np\n",
        "from sklearn import datasets as ds\n",
        "from sklearn.model_selection import train_test_split\n",
        "\n",
        "class MyKNN:\n",
        "\n",
        "    def __init__(self, k=5):\n",
        "        self.k = k\n",
        "\n",
        "    def fit(self, X_train, y_train):\n",
        "\n",
        "        self.X_train = X_train\n",
        "        self.y_train = y_train\n",
        "\n",
        "    def predict(self, X):\n",
        "        pred = np.zeros(X.shape[0], dtype=int)\n",
        "\n",
        "        # Iterate through each sample\n",
        "        for i in range(X.shape[0]):\n",
        "            nns = self.findKNgbs(X[i, :])\n",
        "            labels = self.y_train[nns]\n",
        "            cnts = np.bincount(labels)\n",
        "            pred[i] = np.argmax(cnts)\n",
        "\n",
        "        return pred\n",
        "\n",
        "    def findKNgbs(self, x):\n",
        "        dist = np.sqrt(np.sum((self.X_train - x)**2, axis=1))\n",
        "\n",
        "        indices = np.argsort(dist)[:self.k]\n",
        "        return indices\n",
        "\n",
        "    def accuracy(self, real, pred):\n",
        "        return np.mean(real == pred)\n",
        "\n"
      ]
    },
    {
      "cell_type": "markdown",
      "id": "72066828",
      "metadata": {
        "id": "72066828"
      },
      "source": [
        "### Finding the best hyperparameter (K) in KNN.  "
      ]
    },
    {
      "cell_type": "code",
      "source": [
        "from sklearn.model_selection import train_test_split\n",
        "\n",
        "df = pd.read_csv('winequality-white.csv', delimiter=';')\n",
        "X = df.iloc[:, :11].values\n",
        "y = df.iloc[:, -1].values\n",
        "\n",
        "X_train_val, X_test, y_train_val, y_test = train_test_split(X, y, test_size=0.2, random_state=42)\n",
        "print(f\"Number of samples in training + validation set: {X_train_val.shape[0]}\")\n",
        "print(f\"Number of samples in test set: {X_test.shape[0]}\")\n",
        "\n",
        "X_train, X_val, y_train, y_val = train_test_split(X_train_val, y_train_val, test_size=0.125, random_state=42)\n",
        "\n",
        "\n",
        "print(f\"Number of samples in training set: {X_train.shape[0]}\")\n",
        "print(f\"Number of samples in validation set: {X_val.shape[0]}\")\n",
        "print(f\"Number of samples in test set: {X_test.shape[0]}\")"
      ],
      "metadata": {
        "id": "TPykHa3bt2w_",
        "colab": {
          "base_uri": "https://localhost:8080/"
        },
        "outputId": "621737ae-a5dc-495a-9687-3ce66622f310"
      },
      "id": "TPykHa3bt2w_",
      "execution_count": null,
      "outputs": [
        {
          "output_type": "stream",
          "name": "stdout",
          "text": [
            "Number of samples in training + validation set: 3918\n",
            "Number of samples in test set: 980\n",
            "Number of samples in training set: 3428\n",
            "Number of samples in validation set: 490\n",
            "Number of samples in test set: 980\n"
          ]
        }
      ]
    },
    {
      "cell_type": "code",
      "execution_count": null,
      "id": "dd0dd8c6",
      "metadata": {
        "colab": {
          "base_uri": "https://localhost:8080/"
        },
        "id": "dd0dd8c6",
        "outputId": "a7672f61-d3a2-4dd2-e53d-89685e05f70e"
      },
      "outputs": [
        {
          "output_type": "stream",
          "name": "stdout",
          "text": [
            "k = 1: Accuracy = 0.58\n",
            "k = 2: Accuracy = 0.54\n",
            "k = 3: Accuracy = 0.52\n",
            "k = 4: Accuracy = 0.50\n",
            "k = 5: Accuracy = 0.50\n",
            "k = 6: Accuracy = 0.49\n",
            "k = 7: Accuracy = 0.50\n",
            "k = 8: Accuracy = 0.49\n",
            "k = 9: Accuracy = 0.49\n",
            "k = 10: Accuracy = 0.48\n"
          ]
        }
      ],
      "source": [
        "# hyperparameter selection\n",
        "\n",
        "k_values = range(1, 11)\n",
        "validation_accuracies = []\n",
        "\n",
        "for k in k_values:\n",
        "    knn = MyKNN(k=k)\n",
        "    knn.fit(X_train, y_train)\n",
        "    pred_val = knn.predict(X_val)\n",
        "    accuracy = knn.accuracy(y_val, pred_val)\n",
        "    validation_accuracies.append(accuracy)\n",
        "    print(f\"k = {k}: Accuracy = {accuracy:.2f}\")"
      ]
    },
    {
      "cell_type": "code",
      "execution_count": null,
      "id": "769162d2",
      "metadata": {
        "colab": {
          "base_uri": "https://localhost:8080/",
          "height": 487
        },
        "id": "769162d2",
        "outputId": "35e19551-c095-4720-8332-874aef2444ce"
      },
      "outputs": [
        {
          "output_type": "display_data",
          "data": {
            "text/plain": [
              "<Figure size 800x500 with 1 Axes>"
            ],
            "image/png": "[encoded data removed]"
          },
          "metadata": {}
        }
      ],
      "source": [
        "# Plot accuracy using different K values\n",
        "\n",
        "import matplotlib.pyplot as plt\n",
        "\n",
        "plt.figure(figsize=(8, 5))\n",
        "plt.plot(k_values, validation_accuracies, marker='o', linestyle='-', color='b')\n",
        "plt.title('Accuracy vs k')\n",
        "plt.xlabel('k Value')\n",
        "plt.ylabel('Accuracy')\n",
        "# Ensure x-axis shows only the integer k values\n",
        "plt.xticks(k_values)\n",
        "plt.grid()\n",
        "plt.show()\n",
        "\n"
      ]
    },
    {
      "cell_type": "markdown",
      "id": "c1ca09f1",
      "metadata": {
        "id": "c1ca09f1"
      },
      "source": [
        "### the Final Performance of KNN model\n"
      ]
    },
    {
      "cell_type": "code",
      "source": [
        "from sklearn.metrics import confusion_matrix\n",
        "\n",
        "best_k = k_values[np.argmax(validation_accuracies)]\n",
        "print(f\"Best k value based on validation set: {best_k}\")\n",
        "\n",
        "# Train the model on Training + Validation Set with the best k\n",
        "knn_final = MyKNN(k=best_k)\n",
        "knn_final.fit(np.vstack((X_train, X_val)), np.hstack((y_train, y_val)))\n",
        "\n",
        "# predictions on the test set\n",
        "test_pred = knn_final.predict(X_test)\n",
        "\n",
        "# Compute and print the confusion matrix\n",
        "conf_matrix = confusion_matrix(y_test, test_pred)\n",
        "print(\"Confusion Matrix:\")\n",
        "print(conf_matrix)"
      ],
      "metadata": {
        "id": "0t_-EDygqAvb",
        "colab": {
          "base_uri": "https://localhost:8080/"
        },
        "outputId": "d3e1f2fd-4d01-475b-e7de-1d1d5f85af3e"
      },
      "id": "0t_-EDygqAvb",
      "execution_count": null,
      "outputs": [
        {
          "output_type": "stream",
          "name": "stdout",
          "text": [
            "Best k value based on validation set: 1\n",
            "Confusion Matrix:\n",
            "[[  1   0   2   1   1   0]\n",
            " [  1   6  10   6   2   0]\n",
            " [  1  11 164  95  18   2]\n",
            " [  1   7  80 277  55  12]\n",
            " [  0   5  21  55 102   9]\n",
            " [  0   0   1  10   7  17]]\n"
          ]
        }
      ]
    },
    {
      "cell_type": "code",
      "source": [
        "# Recall Rate for each class\n",
        "# compute the recall rates using only my own functions\n",
        "\n",
        "print(\"\\nRecall Rate for each class:\")\n",
        "num_classes = conf_matrix.shape[0]\n",
        "for class_idx in range(num_classes):\n",
        "    true_positives = conf_matrix[class_idx, class_idx]\n",
        "    false_negatives = sum(conf_matrix[class_idx, :]) - true_positives\n",
        "    recall_rate = true_positives / (true_positives + false_negatives) if (true_positives + false_negatives) > 0 else 0\n",
        "    print(f\"Class {class_idx}: Recall = {recall_rate}\")"
      ],
      "metadata": {
        "colab": {
          "base_uri": "https://localhost:8080/"
        },
        "id": "ZpcjHFbAWs9G",
        "outputId": "16b82971-4371-48cb-d903-cafb5104b5dc"
      },
      "id": "ZpcjHFbAWs9G",
      "execution_count": null,
      "outputs": [
        {
          "output_type": "stream",
          "name": "stdout",
          "text": [
            "\n",
            "Recall Rate for each class:\n",
            "Class 0: Recall = 0.2\n",
            "Class 1: Recall = 0.24\n",
            "Class 2: Recall = 0.563573883161512\n",
            "Class 3: Recall = 0.6412037037037037\n",
            "Class 4: Recall = 0.53125\n",
            "Class 5: Recall = 0.4857142857142857\n"
          ]
        }
      ]
    },
    {
      "cell_type": "markdown",
      "id": "7e355572",
      "metadata": {
        "id": "7e355572"
      },
      "source": [
        "### the influence of using different numbers of features\n",
        "\n"
      ]
    },
    {
      "cell_type": "code",
      "execution_count": null,
      "id": "4eb7e014",
      "metadata": {
        "colab": {
          "base_uri": "https://localhost:8080/"
        },
        "id": "4eb7e014",
        "outputId": "8f183e5a-c923-48d0-b2cf-ac0ab201a1e7"
      },
      "outputs": [
        {
          "output_type": "stream",
          "name": "stdout",
          "text": [
            "Accuracy for using first feature: 0.2836734693877551\n",
            "Accuracy for using first 5 features: 0.5775510204081633\n",
            "Accuracy for using first 10 features: 0.5938775510204082\n",
            "Accuracy for using all 11 features: 0.5816326530612245\n"
          ]
        }
      ],
      "source": [
        "\n",
        "cases = {\n",
        "    \"First Feature\": X_train[:, 0:1],\n",
        "    \"First 5 Features\": X_train[:, 0:5],\n",
        "    \"First 10 Features\": X_train[:, 0:10],\n",
        "    \"All 11 Features\": X_train\n",
        "}\n",
        "\n",
        "validation_cases = {\n",
        "    \"First Feature\": X_val[:, 0:1],\n",
        "    \"First 5 Features\": X_val[:, 0:5],\n",
        "    \"First 10 Features\": X_val[:, 0:10],\n",
        "    \"All 11 Features\": X_val\n",
        "}\n",
        "\n",
        "accuracies = []\n",
        "\n",
        "for case_name, X_train_case in cases.items():\n",
        "    X_val_case = validation_cases[case_name]\n",
        "    knn = MyKNN(k=1)\n",
        "    knn.fit(X_train_case, y_train)\n",
        "    pred_val = knn.predict(X_val_case)\n",
        "    accuracy = knn.accuracy(y_val, pred_val)\n",
        "    accuracies.append(accuracy)\n",
        "    print(f\"Accuracy for using {case_name.lower()}: {accuracy}\")\n",
        "\n",
        "\n"
      ]
    },
    {
      "cell_type": "code",
      "source": [
        "# plot accuracies\n",
        "\n",
        "plt.figure(figsize=(8, 5))\n",
        "x_labels = [\"First Feature\", \"First 5 Features\", \"First 10 Features\", \"All 11 Features\"]\n",
        "plt.plot(x_labels, accuracies, marker='o', linestyle='-', color='b')\n",
        "plt.title('accuracy vs number of features')\n",
        "plt.xlabel('Feature Sets')\n",
        "plt.ylabel('Accuracy')\n",
        "plt.grid()\n",
        "plt.show()"
      ],
      "metadata": {
        "colab": {
          "base_uri": "https://localhost:8080/",
          "height": 487
        },
        "id": "nMbJpp6FxVK_",
        "outputId": "4c9c2d00-9625-49ce-c628-2846759ea760"
      },
      "id": "nMbJpp6FxVK_",
      "execution_count": null,
      "outputs": [
        {
          "output_type": "display_data",
          "data": {
            "text/plain": [
              "<Figure size 800x500 with 1 Axes>"
            ],
            "image/png": "[encoded data removed]"
          },
          "metadata": {}
        }
      ]
    }
  ],
  "metadata": {
    "kernelspec": {
      "display_name": "Python 3 (ipykernel)",
      "language": "python",
      "name": "python3"
    },
    "language_info": {
      "codemirror_mode": {
        "name": "ipython",
        "version": 3
      },
      "file_extension": ".py",
      "mimetype": "text/x-python",
      "name": "python",
      "nbconvert_exporter": "python",
      "pygments_lexer": "ipython3",
      "version": "3.9.12"
    },
    "colab": {
      "provenance": []
    }
  },
  "nbformat": 4,
  "nbformat_minor": 5
}
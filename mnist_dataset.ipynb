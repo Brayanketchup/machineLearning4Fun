{
  "cells": [
    {
      "cell_type": "code",
      "source": [],
      "metadata": {
        "id": "iYIDdwd_vPJ1"
      },
      "id": "iYIDdwd_vPJ1",
      "execution_count": null,
      "outputs": []
    },
    {
      "cell_type": "markdown",
      "id": "724a5e59",
      "metadata": {
        "id": "724a5e59"
      },
      "source": [
        "### Task 1: Load Mnist training and test datasets.\n"
      ]
    },
    {
      "cell_type": "code",
      "source": [
        "# Please run this first\n",
        "!pip install idx2numpy"
      ],
      "metadata": {
        "id": "ZMY128VnaDPI",
        "colab": {
          "base_uri": "https://localhost:8080/"
        },
        "outputId": "e3ddc205-f085-4c22-9cf4-1e419c40a7d1"
      },
      "id": "ZMY128VnaDPI",
      "execution_count": null,
      "outputs": [
        {
          "output_type": "stream",
          "name": "stdout",
          "text": [
            "Collecting idx2numpy\n",
            "  Downloading idx2numpy-1.2.3.tar.gz (6.8 kB)\n",
            "  Preparing metadata (setup.py) ... \u001b[?25l\u001b[?25hdone\n",
            "Requirement already satisfied: numpy in /usr/local/lib/python3.10/dist-packages (from idx2numpy) (1.26.4)\n",
            "Requirement already satisfied: six in /usr/local/lib/python3.10/dist-packages (from idx2numpy) (1.16.0)\n",
            "Building wheels for collected packages: idx2numpy\n",
            "  Building wheel for idx2numpy (setup.py) ... \u001b[?25l\u001b[?25hdone\n",
            "  Created wheel for idx2numpy: filename=idx2numpy-1.2.3-py3-none-any.whl size=7907 sha256=53bd61a92a0929f9fef368407f3d4178a4a4b7c4520b3b4a087618b81ea9ca53\n",
            "  Stored in directory: /root/.cache/pip/wheels/e0/f4/e7/643fc5f932ec2ff92997f43f007660feb23f948aa8486f1107\n",
            "Successfully built idx2numpy\n",
            "Installing collected packages: idx2numpy\n",
            "Successfully installed idx2numpy-1.2.3\n"
          ]
        }
      ]
    },
    {
      "cell_type": "code",
      "execution_count": null,
      "id": "54a1791b",
      "metadata": {
        "id": "54a1791b",
        "colab": {
          "base_uri": "https://localhost:8080/",
          "height": 1000
        },
        "outputId": "38adba0e-74f3-466b-b1b0-c70dc746afba"
      },
      "outputs": [
        {
          "output_type": "stream",
          "name": "stdout",
          "text": [
            "Drive already mounted at /content/drive; to attempt to forcibly remount, call drive.mount(\"/content/drive\", force_remount=True).\n",
            "Train images shape: (60000, 28, 28)\n",
            "Train labels shape: (60000,)\n",
            "Test images shape: (10000, 28, 28)\n",
            "Test labels shape: (10000,)\n"
          ]
        },
        {
          "output_type": "display_data",
          "data": {
            "text/plain": [
              "<Figure size 640x480 with 1 Axes>"
            ],
            "image/png": "[encoded data removed]"
          },
          "metadata": {}
        },
        {
          "output_type": "display_data",
          "data": {
            "text/plain": [
              "<Figure size 640x480 with 1 Axes>"
            ],
            "image/png": "[encoded data removed]"
          },
          "metadata": {}
        },
        {
          "output_type": "stream",
          "name": "stdout",
          "text": [
            "X_train shape after reshape: (60000, 784)\n",
            "X_test shape after reshape: (10000, 784)\n"
          ]
        }
      ],
      "source": [
        "import numpy as np\n",
        "import matplotlib.pyplot as plt\n",
        "import idx2numpy\n",
        "from google.colab import drive\n",
        "\n",
        "drive.mount('/content/drive')\n",
        "\n",
        "# # Load the dataset files\n",
        "train_images_file = 'train-images.idx3-ubyte'\n",
        "train_labels_file = 'train-labels.idx1-ubyte'\n",
        "test_images_file = 't10k-images.idx3-ubyte'\n",
        "test_labels_file = 't10k-labels.idx1-ubyte'\n",
        "\n",
        "\n",
        "# Load images and labels\n",
        "X_train = idx2numpy.convert_from_file(train_images_file)\n",
        "y_train = idx2numpy.convert_from_file(train_labels_file)\n",
        "X_test = idx2numpy.convert_from_file(test_images_file)\n",
        "y_test = idx2numpy.convert_from_file(test_labels_file)\n",
        "\n",
        "# Print the shape to verify loading\n",
        "print(f\"Train images shape: {X_train.shape}\")\n",
        "print(f\"Train labels shape: {y_train.shape}\")\n",
        "print(f\"Test images shape: {X_test.shape}\")\n",
        "print(f\"Test labels shape: {y_test.shape}\")\n",
        "\n",
        "\n",
        "\n",
        "# Question 2: Plot the first image in X_train, and the first image in X_test\n",
        "plt.imshow(X_train[0], cmap='gray')\n",
        "plt.title(f'Training Image - Label: {y_train[0]}')\n",
        "plt.show()\n",
        "\n",
        "plt.imshow(X_test[0], cmap='gray')\n",
        "plt.title(f'Test Image - Label: {y_test[0]}')\n",
        "plt.show()\n",
        "\n",
        "\n",
        "\n",
        "# Reshape X_train from 60000x28x28 to 60000x784\n",
        "# Reshape X_test from 10000x28x28 to 10000x784\n",
        "\n",
        "X_train_flat = X_train.reshape(X_train.shape[0], -1)\n",
        "X_test_flat = X_test.reshape(X_test.shape[0], -1)\n",
        "\n",
        "# Print shapes to confirm reshaping , Expected: (60000, 784)\n",
        "print(f\"X_train shape after reshape: {X_train_flat.shape}\")\n",
        "print(f\"X_test shape after reshape: {X_test_flat.shape}\")\n"
      ]
    },
    {
      "cell_type": "code",
      "source": [
        "from google.colab import drive\n",
        "drive.mount('/content/drive')"
      ],
      "metadata": {
        "id": "4ziUkXZ-05JU"
      },
      "id": "4ziUkXZ-05JU",
      "execution_count": null,
      "outputs": []
    },
    {
      "cell_type": "code",
      "source": [
        "# Get number of training samples and feature\n",
        "num_training_samples = X_train_flat.shape[0]\n",
        "num_training_features = X_train_flat.shape[1]\n",
        "\n",
        "# Get number of test samples and features\n",
        "num_test_samples = X_test_flat.shape[0]\n",
        "num_test_features = X_test_flat.shape[1]\n",
        "\n",
        "# Number of unique labels in the training set\n",
        "num_classes = len(np.unique(y_train))\n",
        "\n",
        "print(f\"Training sample number: {num_training_samples}\")\n",
        "print(f\"Feature number: {num_training_features}\")\n",
        "print(f\"Test sample number: {num_test_samples}\")\n",
        "print(f\"Feature number: {num_test_features}\")\n",
        "print(f\"Class number: {num_classes}\")"
      ],
      "metadata": {
        "id": "jm45uCmRn7lM",
        "colab": {
          "base_uri": "https://localhost:8080/"
        },
        "outputId": "771cf62f-1c0a-46ec-bc92-4fd6b83c48d0"
      },
      "id": "jm45uCmRn7lM",
      "execution_count": null,
      "outputs": [
        {
          "output_type": "stream",
          "name": "stdout",
          "text": [
            "Training sample number: 60000\n",
            "Feature number: 784\n",
            "Test sample number: 10000\n",
            "Feature number: 784\n",
            "Class number: 10\n"
          ]
        }
      ]
    },
    {
      "cell_type": "markdown",
      "id": "120baa38",
      "metadata": {
        "id": "120baa38"
      },
      "source": [
        "### Predict the MNIST dataset using logistic regression."
      ]
    },
    {
      "cell_type": "code",
      "execution_count": null,
      "id": "38406cde",
      "metadata": {
        "colab": {
          "base_uri": "https://localhost:8080/"
        },
        "id": "38406cde",
        "outputId": "17531bc7-2909-4a2e-ed25-8f3d51efc6b7"
      },
      "outputs": [
        {
          "output_type": "stream",
          "name": "stdout",
          "text": [
            "Fitting 3 folds for each of 2 candidates, totalling 6 fits\n",
            "[CV 1/3] END C=0.1, penalty=l1, solver=liblinear;, score=0.909 total time= 1.1min\n",
            "[CV 2/3] END C=0.1, penalty=l1, solver=liblinear;, score=0.911 total time= 1.0min\n",
            "[CV 3/3] END C=0.1, penalty=l1, solver=liblinear;, score=0.913 total time=  59.3s\n",
            "[CV 1/3] END .C=1, penalty=l1, solver=liblinear;, score=0.907 total time= 1.1min\n",
            "[CV 2/3] END .C=1, penalty=l1, solver=liblinear;, score=0.909 total time= 1.2min\n",
            "[CV 3/3] END .C=1, penalty=l1, solver=liblinear;, score=0.911 total time= 1.1min\n",
            "Total time for hyperparameter tuning: 476.1567599773407\n",
            "Best hyperparameters: {'C': 0.1, 'penalty': 'l1', 'solver': 'liblinear'}\n"
          ]
        }
      ],
      "source": [
        "from sklearn.linear_model import LogisticRegression\n",
        "from sklearn.model_selection import GridSearchCV\n",
        "import time\n",
        "\n",
        "# Load the MNIST dataset from IDX files using idx2numpy\n",
        "train_images_file = 'train-images.idx3-ubyte'\n",
        "train_labels_file = 'train-labels.idx1-ubyte'\n",
        "test_images_file = 't10k-images.idx3-ubyte'\n",
        "test_labels_file = 't10k-labels.idx1-ubyte'\n",
        "\n",
        "# Load images and labels\n",
        "X_train = idx2numpy.convert_from_file(train_images_file)\n",
        "y_train = idx2numpy.convert_from_file(train_labels_file)\n",
        "X_test = idx2numpy.convert_from_file(test_images_file)\n",
        "y_test = idx2numpy.convert_from_file(test_labels_file)\n",
        "\n",
        "# Reshape the images from 28x28 to 784 pixels\n",
        "X_train = X_train.reshape(X_train.shape[0], -1)\n",
        "X_test = X_test.reshape(X_test.shape[0], -1)\n",
        "\n",
        "# Define the logistic regression model and parameters for GridSearchCV\n",
        "logistic = LogisticRegression(max_iter=50)\n",
        "\n",
        "param_grid = {\n",
        "    'C': [0.1, 1],\n",
        "    'penalty': ['l1'],\n",
        "    'solver': ['liblinear']\n",
        "}\n",
        "\n",
        "# Initialize GridSearchCV with the specified parameters and verbose output\n",
        "grid_search = GridSearchCV(logistic, param_grid, cv=3, verbose=3)\n",
        "\n",
        "# Perform grid search and track the total time\n",
        "start_time = time.time()\n",
        "grid_search.fit(X_train, y_train)\n",
        "end_time = time.time()\n",
        "\n",
        "# Output the best parameters and the total time for tuning\n",
        "print(f\"Total time for hyperparameter tuning: {end_time - start_time}\")\n",
        "print(f\"Best hyperparameters: {grid_search.best_params_}\")\n",
        "\n"
      ]
    },
    {
      "cell_type": "code",
      "execution_count": null,
      "id": "e453778c",
      "metadata": {
        "colab": {
          "base_uri": "https://localhost:8080/"
        },
        "id": "e453778c",
        "outputId": "2231859e-7c0b-48c3-f786-1edb1d8f234d"
      },
      "outputs": [
        {
          "output_type": "stream",
          "name": "stdout",
          "text": [
            "Best hyperparameters: {'C': 0.1, 'penalty': 'l1', 'solver': 'liblinear'}\n"
          ]
        }
      ],
      "source": [
        "# get the best hyperparameters\n",
        "print(f\"Best hyperparameters: {grid_search.best_params_}\")\n"
      ]
    },
    {
      "cell_type": "code",
      "source": [
        "# use the best hyperparameters to train a final model.\n",
        "best_params = grid_search.best_params_\n",
        "\n",
        "# start a Logistic Regression model with the best hyperparameters\n",
        "final_model = LogisticRegression(C=best_params['C'], penalty=best_params['penalty'], solver=best_params['solver'], max_iter=50)\n",
        "\n",
        "# Measure the time to train the model\n",
        "start_time = time.time()\n",
        "final_model.fit(X_train, y_train)\n",
        "end_time = time.time()\n",
        "print(f\"Total time for training: {end_time - start_time}\")"
      ],
      "metadata": {
        "colab": {
          "base_uri": "https://localhost:8080/"
        },
        "id": "3A_wt7TbmKXK",
        "outputId": "8a8093f3-15b8-4930-d6e9-0792f02d110b"
      },
      "id": "3A_wt7TbmKXK",
      "execution_count": null,
      "outputs": [
        {
          "output_type": "stream",
          "name": "stdout",
          "text": [
            "Total time for training: 89.18967366218567\n"
          ]
        }
      ]
    },
    {
      "cell_type": "code",
      "source": [
        "# Compute the recall for each class on test set\n",
        "from sklearn.metrics import confusion_matrix\n",
        "\n",
        "# Use the final model to predict the test set\n",
        "y_pred = final_model.predict(X_test)\n",
        "\n",
        "# Compute recall\n",
        "report = classification_report(y_test, y_pred, output_dict=True)\n",
        "\n",
        "# Print recall rates for each class\n",
        "for i in range(10):\n",
        "    print(f\"Recall class {i}: {report[str(i)]['recall']}\")"
      ],
      "metadata": {
        "colab": {
          "base_uri": "https://localhost:8080/"
        },
        "id": "2UAz6ujAq7vI",
        "outputId": "5ab89710-5fee-45e1-e8bc-20f78c08a564"
      },
      "id": "2UAz6ujAq7vI",
      "execution_count": null,
      "outputs": [
        {
          "output_type": "stream",
          "name": "stdout",
          "text": [
            "Recall class 0: 0.9795918367346939\n",
            "Recall class 1: 0.9788546255506608\n",
            "Recall class 2: 0.8846899224806202\n",
            "Recall class 3: 0.9128712871287129\n",
            "Recall class 4: 0.9317718940936863\n",
            "Recall class 5: 0.8621076233183856\n",
            "Recall class 6: 0.9509394572025052\n",
            "Recall class 7: 0.9173151750972762\n",
            "Recall class 8: 0.8737166324435318\n",
            "Recall class 9: 0.8850346878097126\n"
          ]
        }
      ]
    },
    {
      "cell_type": "markdown",
      "id": "fdad5706",
      "metadata": {
        "id": "fdad5706"
      },
      "source": [
        "### Predicting the MNIST dataset Artificial Neural Network with fully connected layers.\n"
      ]
    },
    {
      "cell_type": "code",
      "execution_count": null,
      "id": "382ff35a",
      "metadata": {
        "colab": {
          "base_uri": "https://localhost:8080/"
        },
        "id": "382ff35a",
        "outputId": "419998d5-04ab-4bb3-f8f9-1d19168e5a44"
      },
      "outputs": [
        {
          "output_type": "stream",
          "name": "stdout",
          "text": [
            "Shape of X_train before reshaping: torch.Size([60000, 28, 28])\n",
            "Shape of y_train: torch.Size([60000])\n",
            "Shape of X_train after reshaping: torch.Size([60000, 784])\n",
            "Batch of images shape: torch.Size([64, 784])\n",
            "Batch of labels shape: torch.Size([64])\n"
          ]
        }
      ],
      "source": [
        "# Step 1 Dataset and DataLoader\n",
        "\n",
        "\n",
        "import torch\n",
        "from torchvision import datasets, transforms\n",
        "from torch.utils.data import DataLoader\n",
        "\n",
        "train_images_file = 'train-images.idx3-ubyte'\n",
        "train_labels_file = 'train-labels.idx1-ubyte'\n",
        "test_images_file = 't10k-images.idx3-ubyte'\n",
        "test_labels_file = 't10k-labels.idx1-ubyte'\n",
        "\n",
        "import idx2numpy\n",
        "import torch\n",
        "from torch.utils.data import DataLoader, TensorDataset\n",
        "\n",
        "# Load the dataset\n",
        "train_images_file = 'train-images.idx3-ubyte'\n",
        "train_labels_file = 'train-labels.idx1-ubyte'\n",
        "\n",
        "# Load images and labels\n",
        "X_train = idx2numpy.convert_from_file(train_images_file)\n",
        "y_train = idx2numpy.convert_from_file(train_labels_file)\n",
        "\n",
        "# Normalize images (from 0-255 to 0-1) and convert to PyTorch tensors for the model\n",
        "X_train = torch.tensor(X_train, dtype=torch.float32) / 255.0\n",
        "y_train = torch.tensor(y_train, dtype=torch.long)\n",
        "\n",
        "# Check shapes\n",
        "print(f\"Shape of X_train before reshaping: {X_train.shape}\")\n",
        "print(f\"Shape of y_train: {y_train.shape}\")\n",
        "\n",
        "# Flatten the images from (28, 28) to (784,) for all images\n",
        "X_train = X_train.view(X_train.size(0), -1)\n",
        "\n",
        "# Check shapes again after reshaping just to double check everything works\n",
        "print(f\"Shape of X_train after reshaping: {X_train.shape}\")\n",
        "\n",
        "# Create TensorDataset and DataLoader\n",
        "train_dataset = TensorDataset(X_train, y_train)\n",
        "train_loader = DataLoader(train_dataset, batch_size=64, shuffle=True)\n",
        "\n",
        "# Fetch the first batch of images and labels\n",
        "images, labels = next(iter(train_loader))\n",
        "\n",
        "# Print the shape of the first batch of images and labels\n",
        "print(f\"Batch of images shape: {images.shape}\")\n",
        "print(f\"Batch of labels shape: {labels.shape}\")\n"
      ]
    },
    {
      "cell_type": "markdown",
      "source": [
        "### Designing a neural network with 3 fully connected layers.\n"
      ],
      "metadata": {
        "id": "C41Wqt0NTuIN"
      },
      "id": "C41Wqt0NTuIN"
    },
    {
      "cell_type": "code",
      "source": [
        "import torch\n",
        "import torch.nn as nn\n",
        "\n",
        "\n",
        "class NeuralNetwork(nn.Module):\n",
        "  # First fully connected layer (input size: 784) Second fully connected layer (input size: 128),\n",
        "  # Output layer (output size: 10 classes for MNIST) ReLU activation function\n",
        "    def __init__(self):\n",
        "        super(NeuralNetwork, self).__init__()\n",
        "        self.fc1 = nn.Linear(28*28, 128)\n",
        "        self.fc2 = nn.Linear(128, 64)\n",
        "        self.fc3 = nn.Linear(64, 10)\n",
        "        self.relu = nn.ReLU()\n",
        "\n",
        "        # First layer + ReLU, Second layer + ReLU and final layer, no activation function\n",
        "    def forward(self, x):\n",
        "        x = self.relu(self.fc1(x))\n",
        "        x = self.relu(self.fc2(x))\n",
        "        x = self.fc3(x)\n",
        "        return x\n",
        "\n",
        "\n",
        "device = torch.device('cuda' if torch.cuda.is_available() else 'cpu')\n",
        "model = NeuralNetwork().to(device)\n",
        "\n",
        "print(\"Model architecture:\")\n",
        "print(model)\n"
      ],
      "metadata": {
        "id": "kfGJq2wBVOfn",
        "colab": {
          "base_uri": "https://localhost:8080/"
        },
        "outputId": "4c03f642-7537-4637-a9b7-6ac81acab2ca"
      },
      "id": "kfGJq2wBVOfn",
      "execution_count": null,
      "outputs": [
        {
          "output_type": "stream",
          "name": "stdout",
          "text": [
            "Model architecture:\n",
            "NeuralNetwork(\n",
            "  (fc1): Linear(in_features=784, out_features=128, bias=True)\n",
            "  (fc2): Linear(in_features=128, out_features=64, bias=True)\n",
            "  (fc3): Linear(in_features=64, out_features=10, bias=True)\n",
            "  (relu): ReLU()\n",
            ")\n"
          ]
        }
      ]
    },
    {
      "cell_type": "markdown",
      "source": [
        "### Train the model for 10 epochs\n"
      ],
      "metadata": {
        "id": "DgD1jh4OWOeZ"
      },
      "id": "DgD1jh4OWOeZ"
    },
    {
      "cell_type": "code",
      "source": [
        "import torch.optim as optim\n",
        "import time\n",
        "import matplotlib.pyplot as plt\n",
        "from torch.utils.data import DataLoader, TensorDataset\n",
        "import idx2numpy\n",
        "\n",
        "# Load the MNIST dataset from IDX files using idx2numpy\n",
        "train_images_file = 'train-images.idx3-ubyte'\n",
        "train_labels_file = 'train-labels.idx1-ubyte'\n",
        "test_images_file = 't10k-images.idx3-ubyte'\n",
        "test_labels_file = 't10k-labels.idx1-ubyte'\n",
        "\n",
        "# Load images and labels\n",
        "X_train = idx2numpy.convert_from_file(train_images_file)\n",
        "y_train = idx2numpy.convert_from_file(train_labels_file)\n",
        "X_test = idx2numpy.convert_from_file(test_images_file)\n",
        "y_test = idx2numpy.convert_from_file(test_labels_file)\n",
        "\n",
        "# Normalize and convert to PyTorch tensors\n",
        "X_train = torch.tensor(X_train, dtype=torch.float32).view(-1, 28*28) / 255.0\n",
        "y_train = torch.tensor(y_train, dtype=torch.long)\n",
        "X_test = torch.tensor(X_test, dtype=torch.float32).view(-1, 28*28) / 255.0\n",
        "y_test = torch.tensor(y_test, dtype=torch.long)\n",
        "\n",
        "# Create DataLoaders for training and test datasets\n",
        "train_dataset = TensorDataset(X_train, y_train)\n",
        "test_dataset = TensorDataset(X_test, y_test)\n",
        "train_loader = DataLoader(train_dataset, batch_size=64, shuffle=True)\n",
        "test_loader = DataLoader(test_dataset, batch_size=64, shuffle=False)\n",
        "\n",
        "# Initialize loss function and optimizer\n",
        "criterion = nn.CrossEntropyLoss()\n",
        "optimizer = optim.Adam(model.parameters(), lr=0.001)\n",
        "\n",
        "# Training loop\n",
        "num_epochs = 10\n",
        "train_loss_history = []\n",
        "test_loss_history = []\n",
        "train_acc_history = []\n",
        "test_acc_history = []\n",
        "\n",
        "start_time = time.time()\n",
        "\n",
        "for epoch in range(num_epochs):\n",
        "    model.train()\n",
        "    train_loss = 0.0\n",
        "    correct_train = 0\n",
        "    total_train = 0\n",
        "\n",
        "    for images, labels in train_loader:\n",
        "        images, labels = images.to(device), labels.to(device)\n",
        "\n",
        "        # Forward pass\n",
        "        outputs = model(images)\n",
        "        loss = criterion(outputs, labels)\n",
        "\n",
        "        # Backward pass and optimization\n",
        "        optimizer.zero_grad()\n",
        "        loss.backward()\n",
        "        optimizer.step()\n",
        "\n",
        "        # Calculate accuracy and loss\n",
        "        train_loss += loss.item() * images.size(0)\n",
        "        _, predicted = torch.max(outputs, 1)\n",
        "        total_train += labels.size(0)\n",
        "        correct_train += (predicted == labels).sum().item()\n",
        "\n",
        "    # Average loss and accuracy for the epoch\n",
        "    avg_train_loss = train_loss / total_train\n",
        "    train_accuracy = correct_train / total_train\n",
        "    train_loss_history.append(avg_train_loss)\n",
        "    train_acc_history.append(train_accuracy)\n",
        "\n",
        "    # Evaluate on test set\n",
        "    model.eval()\n",
        "    test_loss = 0.0\n",
        "    correct_test = 0\n",
        "    total_test = 0\n",
        "\n",
        "    with torch.no_grad():\n",
        "        for images, labels in test_loader:\n",
        "            images, labels = images.to(device), labels.to(device)\n",
        "            outputs = model(images)\n",
        "            loss = criterion(outputs, labels)\n",
        "\n",
        "            # accuracy and loss calc\n",
        "            test_loss += loss.item() * images.size(0)\n",
        "            _, predicted = torch.max(outputs, 1)\n",
        "            total_test += labels.size(0)\n",
        "            correct_test += (predicted == labels).sum().item()\n",
        "\n",
        "    avg_test_loss = test_loss / total_test\n",
        "    test_accuracy = correct_test / total_test\n",
        "    test_loss_history.append(avg_test_loss)\n",
        "    test_acc_history.append(test_accuracy)\n",
        "\n",
        "    print(f\"Epoch [{epoch+1}/{num_epochs}], Train Loss: {avg_train_loss:.4f}, \"\n",
        "          f\"Train Accuracy: {train_accuracy:.4f}, Test Loss: {avg_test_loss:.4f}, \"\n",
        "          f\"Test Accuracy: {test_accuracy:.4f}\")\n",
        "\n",
        "end_time = time.time()\n",
        "print(f\"Total time for training: {end_time - start_time:.4f} seconds\")\n",
        "\n",
        "# Plot the loss curves\n",
        "plt.figure(figsize=(10,5))\n",
        "plt.plot(train_loss_history, label='Training Loss')\n",
        "plt.plot(test_loss_history, label='Test Loss')\n",
        "plt.title('Loss Curves')\n",
        "plt.xlabel('Epoch')\n",
        "plt.ylabel('Loss')\n",
        "plt.legend()\n",
        "plt.show()\n",
        "\n",
        "\n"
      ],
      "metadata": {
        "colab": {
          "base_uri": "https://localhost:8080/",
          "height": 600
        },
        "id": "imMSCXLZWNg_",
        "outputId": "f49ec3e7-3d33-481d-a7a6-2615ee24f607"
      },
      "id": "imMSCXLZWNg_",
      "execution_count": null,
      "outputs": [
        {
          "output_type": "stream",
          "name": "stdout",
          "text": [
            "Epoch [1/10], Train Loss: 0.3388, Train Accuracy: 0.9046, Test Loss: 0.1632, Test Accuracy: 0.9518\n",
            "Epoch [2/10], Train Loss: 0.1447, Train Accuracy: 0.9560, Test Loss: 0.1206, Test Accuracy: 0.9644\n",
            "Epoch [3/10], Train Loss: 0.0996, Train Accuracy: 0.9698, Test Loss: 0.1014, Test Accuracy: 0.9683\n",
            "Epoch [4/10], Train Loss: 0.0733, Train Accuracy: 0.9780, Test Loss: 0.0991, Test Accuracy: 0.9694\n",
            "Epoch [5/10], Train Loss: 0.0582, Train Accuracy: 0.9824, Test Loss: 0.0862, Test Accuracy: 0.9737\n",
            "Epoch [6/10], Train Loss: 0.0480, Train Accuracy: 0.9848, Test Loss: 0.0774, Test Accuracy: 0.9764\n",
            "Epoch [7/10], Train Loss: 0.0384, Train Accuracy: 0.9880, Test Loss: 0.0980, Test Accuracy: 0.9711\n",
            "Epoch [8/10], Train Loss: 0.0318, Train Accuracy: 0.9898, Test Loss: 0.0880, Test Accuracy: 0.9747\n",
            "Epoch [9/10], Train Loss: 0.0276, Train Accuracy: 0.9912, Test Loss: 0.0835, Test Accuracy: 0.9763\n",
            "Epoch [10/10], Train Loss: 0.0226, Train Accuracy: 0.9926, Test Loss: 0.0827, Test Accuracy: 0.9768\n",
            "Total time for training: 29.1080 seconds\n"
          ]
        },
        {
          "output_type": "display_data",
          "data": {
            "text/plain": [
              "<Figure size 1000x500 with 1 Axes>"
            ],
            "image/png": "[encoded data removed]"
          },
          "metadata": {}
        }
      ]
    },
    {
      "cell_type": "code",
      "source": [
        "\n",
        "from sklearn.metrics import recall_score\n",
        "\n",
        "# After evaluating the test set and obtaining all predictions//labels\n",
        "all_preds = []\n",
        "all_labels = []\n",
        "\n",
        "with torch.no_grad():\n",
        "    for images, labels in test_loader:\n",
        "        images, labels = images.to(device), labels.to(device)\n",
        "        outputs = model(images)\n",
        "        _, predicted = torch.max(outputs, 1)\n",
        "\n",
        "        # Store all predictions and true labels\n",
        "        all_preds.append(predicted.cpu())\n",
        "        all_labels.append(labels.cpu())\n",
        "\n",
        "# Concatenate all predictions and labels\n",
        "all_preds = torch.cat(all_preds)\n",
        "all_labels = torch.cat(all_labels)\n",
        "\n",
        "# Compute recall\n",
        "recall_per_class = recall_score(all_labels.numpy(), all_preds.numpy(), average=None)\n",
        "\n",
        "# Print the recall\n",
        "\n",
        "for i, recall in enumerate(recall_per_class):\n",
        "    print(f\"Recall class {i}: {recall}\")"
      ],
      "metadata": {
        "colab": {
          "base_uri": "https://localhost:8080/"
        },
        "id": "KLFfNCLeWNca",
        "outputId": "1b806b05-e420-47a1-b3ac-56ffb55c5da3"
      },
      "id": "KLFfNCLeWNca",
      "execution_count": null,
      "outputs": [
        {
          "output_type": "stream",
          "name": "stdout",
          "text": [
            "Recall class 0: 0.9918367346938776\n",
            "Recall class 1: 0.9947136563876652\n",
            "Recall class 2: 0.9689922480620154\n",
            "Recall class 3: 0.9752475247524752\n",
            "Recall class 4: 0.9694501018329938\n",
            "Recall class 5: 0.968609865470852\n",
            "Recall class 6: 0.9770354906054279\n",
            "Recall class 7: 0.9591439688715954\n",
            "Recall class 8: 0.9774127310061602\n",
            "Recall class 9: 0.9831516352824579\n"
          ]
        }
      ]
    },
    {
      "cell_type": "markdown",
      "source": [
        "I was doing q1 with\n",
        "train_images_file = 'train-images.idx3-ubyte'\n",
        "train_labels_file = 'train-labels.idx1-ubyte'\n",
        "test_images_file = 't10k-images.idx3-ubyte'\n",
        "test_labels_file = 't10k-labels.idx1-ubyte'\n",
        "\n",
        "X_train = load_idx(train_images_file)\n",
        "y_train = load_idx(train_labels_file)\n",
        "X_test = load_idx(test_images_file)\n",
        "y_test = load_idx(test_labels_file)\n",
        "\n",
        "but it was taking too long and so I cutted the amount of information I was fitting the models"
      ],
      "metadata": {
        "id": "PQ-OGhkkMPO2"
      },
      "id": "PQ-OGhkkMPO2"
    },
    {
      "cell_type": "markdown",
      "source": [
        "### Compare LR and Neural Network in Recall and Time.\n"
      ],
      "metadata": {
        "id": "vkM9RgN00dQu"
      },
      "id": "vkM9RgN00dQu"
    },
    {
      "cell_type": "code",
      "source": [
        "\n",
        "import struct\n",
        "import numpy as np\n",
        "import time\n",
        "from sklearn.metrics import recall_score\n",
        "from sklearn.linear_model import LogisticRegression\n",
        "from sklearn.neural_network import MLPClassifier\n",
        "from sklearn.preprocessing import StandardScaler\n",
        "from sklearn.model_selection import train_test_split\n",
        "\n",
        "# Helper function to load IDX files\n",
        "def load_idx(filename):\n",
        "    with open(filename, 'rb') as f:\n",
        "        zero, data_type, dims = struct.unpack('>HBB', f.read(4))\n",
        "        shape = tuple(struct.unpack('>I', f.read(4))[0] for d in range(dims))\n",
        "        return np.frombuffer(f.read(), dtype=np.uint8).reshape(shape)\n",
        "\n",
        "# Load the dataset from IDX files\n",
        "train_images_file = 'train-images.idx3-ubyte'\n",
        "train_labels_file = 'train-labels.idx1-ubyte'\n",
        "test_images_file = 't10k-images.idx3-ubyte'\n",
        "test_labels_file = 't10k-labels.idx1-ubyte'\n",
        "\n",
        "X_train = load_idx(train_images_file)\n",
        "y_train = load_idx(train_labels_file)\n",
        "X_test = load_idx(test_images_file)\n",
        "y_test = load_idx(test_labels_file)\n",
        "\n",
        "# Reshape the data if needed\n",
        "X_train = X_train.reshape(X_train.shape[0], -1).astype(np.float32)\n",
        "X_test = X_test.reshape(X_test.shape[0], -1).astype(np.float32)\n",
        "\n",
        "# Split the data to use only 25% of the original training data\n",
        "X_train, _, y_train, _ = train_test_split(X_train, y_train, test_size=0.75, random_state=42)\n",
        "\n",
        "# Scale the data for Neural Network\n",
        "scaler = StandardScaler()\n",
        "X_train_scaled = scaler.fit_transform(X_train)\n",
        "X_test_scaled = scaler.transform(X_test)\n",
        "\n",
        "# Logistic Regression model with faster 'saga' solver\n",
        "lr = LogisticRegression(max_iter=10000, solver='saga', n_jobs=-1)\n",
        "\n",
        "# Measure training time for LR\n",
        "start_time = time.time()\n",
        "lr.fit(X_train, y_train)\n",
        "lr_train_time = time.time() - start_time\n",
        "\n",
        "# Make predictions with LR\n",
        "y_pred_lr = lr.predict(X_test)\n",
        "\n",
        "# Calculate the recall per class for LR\n",
        "recall_lr = recall_score(y_test, y_pred_lr, average=None)\n",
        "\n",
        "# Neural network model with early stopping\n",
        "nn = MLPClassifier(hidden_layer_sizes=(50,), max_iter=500, early_stopping=True, batch_size=256, solver='adam')\n",
        "\n",
        "# Measure training time for NN\n",
        "start_time = time.time()\n",
        "nn.fit(X_train_scaled, y_train)\n",
        "nn_train_time = time.time() - start_time\n",
        "\n",
        "# Make predictions with NN\n",
        "y_pred_nn = nn.predict(X_test_scaled)\n",
        "\n",
        "# Calculate recall per class for NN\n",
        "recall_nn = recall_score(y_test, y_pred_nn, average=None)\n",
        "\n",
        "# Display results in markdown format\n",
        "print(\"| Model               | 0      | 1      | 2      | 3      | 4      | 5      | 6      | 7      | 8      | 9      | Train Time   |\")\n",
        "print(\"|---------------------|--------|--------|--------|--------|--------|--------|--------|--------|--------|--------|--------------|\")\n",
        "print(f\"| Logistic Regression | {recall_lr[0]:.3f} | {recall_lr[1]:.3f} | {recall_lr[2]:.3f} | {recall_lr[3]:.3f} | {recall_lr[4]:.3f} | {recall_lr[5]:.3f} | {recall_lr[6]:.3f} | {recall_lr[7]:.3f} | {recall_lr[8]:.3f} | {recall_lr[9]:.3f} | {lr_train_time:.3f} seconds |\")\n",
        "print(f\"| Neural Network      | {recall_nn[0]:.3f} | {recall_nn[1]:.3f} | {recall_nn[2]:.3f} | {recall_nn[3]:.3f} | {recall_nn[4]:.3f} | {recall_nn[5]:.3f} | {recall_nn[6]:.3f} | {recall_nn[7]:.3f} | {recall_nn[8]:.3f} | {recall_nn[9]:.3f} | {nn_train_time:.3f} seconds |\")\n"
      ],
      "metadata": {
        "id": "Rh7B8C5VEtfB",
        "colab": {
          "base_uri": "https://localhost:8080/"
        },
        "outputId": "761e4280-9b78-4bfc-a83a-5c41706893cf"
      },
      "id": "Rh7B8C5VEtfB",
      "execution_count": null,
      "outputs": [
        {
          "output_type": "stream",
          "name": "stdout",
          "text": [
            "| Model               | 0      | 1      | 2      | 3      | 4      | 5      | 6      | 7      | 8      | 9      | Train Time   |\n",
            "|---------------------|--------|--------|--------|--------|--------|--------|--------|--------|--------|--------|--------------|\n",
            "| Logistic Regression | 0.963 | 0.970 | 0.857 | 0.878 | 0.892 | 0.821 | 0.925 | 0.886 | 0.817 | 0.862 | 1120.909 seconds |\n",
            "| Neural Network      | 0.983 | 0.989 | 0.930 | 0.941 | 0.956 | 0.930 | 0.967 | 0.943 | 0.922 | 0.921 | 5.196 seconds |\n"
          ]
        }
      ]
    }
  ],
  "metadata": {
    "kernelspec": {
      "display_name": "Python 3",
      "name": "python3"
    },
    "language_info": {
      "codemirror_mode": {
        "name": "ipython",
        "version": 3
      },
      "file_extension": ".py",
      "mimetype": "text/x-python",
      "name": "python",
      "nbconvert_exporter": "python",
      "pygments_lexer": "ipython3",
      "version": "3.9.12"
    },
    "colab": {
      "provenance": [],
      "gpuType": "T4"
    },
    "accelerator": "GPU"
  },
  "nbformat": 4,
  "nbformat_minor": 5
}